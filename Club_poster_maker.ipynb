{
  "nbformat": 4,
  "nbformat_minor": 0,
  "metadata": {
    "colab": {
      "private_outputs": true,
      "provenance": [],
      "authorship_tag": "ABX9TyM3R3ONYbrhTfiwKubimFMQ",
      "include_colab_link": true
    },
    "kernelspec": {
      "name": "python3",
      "display_name": "Python 3"
    },
    "language_info": {
      "name": "python"
    }
  },
  "cells": [
    {
      "cell_type": "markdown",
      "metadata": {
        "id": "view-in-github",
        "colab_type": "text"
      },
      "source": [
        "<a href=\"https://colab.research.google.com/github/adrianyang2012/club_poster_making_things/blob/main/Club_poster_maker.ipynb\" target=\"_parent\"><img src=\"https://colab.research.google.com/assets/colab-badge.svg\" alt=\"Open In Colab\"/></a>"
      ]
    },
    {
      "cell_type": "code",
      "execution_count": null,
      "metadata": {
        "id": "din_Xm6h5GSa"
      },
      "outputs": [],
      "source": [
        "import matplotlib.pyplot as plt\n",
        "ax = plt.axes()\n",
        "\n",
        "club_name = input('what is your clubs name?')\n",
        "extra_text = input('type some extra sentences')\n",
        "decoration = input('what do you want the background to be')\n",
        "new = input('do you have stuff to sell?')\n",
        "if new == 'no':\n",
        "  new = False\n",
        "items = []\n",
        "prices = []\n",
        "while new:\n",
        "  item_name = input('type the item name')\n",
        "  item_price = input('type item price')\n",
        "  items.append(item_name)\n",
        "  prices.append(item_price)\n",
        "  if input('more items?') == 'no':\n",
        "    new = False\n",
        "try:\n",
        "  ax.set_facecolor(decoration)\n",
        "except Exception as e:\n",
        "  print(e)\n",
        "  print('invalid color')\n",
        "plt.scatter(10,10)\n",
        "plt.scatter(-10,-10)\n",
        "plt.text(0,8,club_name)\n",
        "for i in range(0,len(items)):\n",
        "  plt.text(0,6-i,f\"{items[i]}:{prices[i]}\")\n",
        "plt.text(-2,-5,extra_text,c = 'orange')\n",
        "plt.show()"
      ]
    }
  ]
}